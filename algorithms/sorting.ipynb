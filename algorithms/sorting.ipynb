{
 "cells": [
  {
   "cell_type": "markdown",
   "metadata": {},
   "source": [
    "# Bubble and Quick sort"
   ]
  },
  {
   "cell_type": "markdown",
   "metadata": {},
   "source": [
    "## Utility\n",
    "\n",
    "You would to skip it first."
   ]
  },
  {
   "cell_type": "code",
   "execution_count": 1,
   "metadata": {
    "_cell_guid": "79c7e3d0-c299-4dcb-8224-4455121ee9b0",
    "_uuid": "d629ff2d2480ee46fbb7e2d37f6b5fab8052498a"
   },
   "outputs": [],
   "source": [
    "import random\n",
    "import operator\n",
    "import timeit\n",
    "import statistics\n",
    "\n",
    "\n",
    "idx = operator.itemgetter(0)\n",
    "val = operator.itemgetter(1)\n",
    "\n",
    "\n",
    "def pairs(arr):\n",
    "    return zip(enumerate(arr), enumerate(arr[1:], 1))\n",
    "\n",
    "\n",
    "def is_bad(pair):\n",
    "    a, b = pair\n",
    "    return val(a) > val(b)\n",
    "\n",
    "\n",
    "def bad_pairs(arr):\n",
    "    return filter(is_bad, pairs(arr))\n",
    "\n",
    "\n",
    "def is_sorted(arr):\n",
    "    return not any(bad_pairs(arr))\n",
    "\n",
    "\n",
    "def swap(arr, a, b):\n",
    "    arr[b], arr[a] = arr[a], arr[b]\n",
    "\n",
    "\n",
    "ARRAY_LENGTH = 2000\n",
    "    \n",
    "    \n",
    "def build_random_array():\n",
    "    return [random.randint(0, 100) for _ in range(ARRAY_LENGTH)]\n",
    "    \n",
    "\n",
    "def print_array(arr):\n",
    "    print(f'{arr[:10]} ... {arr[-10:]}')\n",
    "\n",
    "\n",
    "def times_to_ms(times_sec):\n",
    "    sec = statistics.mean(times_sec)\n",
    "    ms = sec * 1000\n",
    "    return round(ms)\n",
    "\n",
    "\n",
    "def random_array_time_ms(sorting_function):\n",
    "    return times_to_ms(timeit.repeat(f'{sorting_function.__name__}(arr)',\n",
    "                                     setup='arr=build_random_array()',\n",
    "                                     globals=globals(),\n",
    "                                     number=1,\n",
    "                                     repeat=3))\n",
    "\n",
    "\n",
    "def sorted_array_time_ms(sorting_function, arr):\n",
    "    return times_to_ms(timeit.repeat(f'sorting_function(arr)',\n",
    "                                     globals=locals(),\n",
    "                                     number=1,\n",
    "                                     repeat=3))\n",
    "\n",
    "\n",
    "def print_random_array_sorting(title, sorting_function):\n",
    "    print(f'{title} - {random_array_time_ms(sorting_function)} ms')\n",
    "    arr = build_random_array()\n",
    "    print_array(arr)\n",
    "    assert not is_sorted(arr)\n",
    "    sorting_function(arr)\n",
    "    assert is_sorted(arr)\n",
    "    print_array(arr)\n",
    "    print()\n",
    "\n",
    "\n",
    "def print_sorted_array_sorting(title, sorting_function):\n",
    "    arr = build_random_array()\n",
    "    arr.sort()\n",
    "    print(f'{title} - {sorted_array_time_ms(sorting_function, arr)} ms')\n",
    "    sorting_function(arr)\n",
    "    assert is_sorted(arr)\n",
    "    print()\n",
    "\n",
    "\n",
    "def print_single_value_array_sorting(title, sorting_function):\n",
    "    arr = [0] * ARRAY_LENGTH\n",
    "    assert is_sorted(arr)\n",
    "    print(f'{title} - {sorted_array_time_ms(sorting_function, arr)} ms')\n",
    "    sorting_function(arr)\n",
    "    print()"
   ]
  },
  {
   "cell_type": "markdown",
   "metadata": {},
   "source": [
    "## [Bubble sort](#bubble_sort)"
   ]
  },
  {
   "cell_type": "code",
   "execution_count": 2,
   "metadata": {},
   "outputs": [],
   "source": [
    "def bubble_sort(arr):\n",
    "    while not is_sorted(arr):\n",
    "        for a, b in bad_pairs(arr):\n",
    "            swap(arr, idx(a), idx(b))"
   ]
  },
  {
   "cell_type": "markdown",
   "metadata": {},
   "source": [
    "## [Quick sort](#quick_sort)"
   ]
  },
  {
   "cell_type": "markdown",
   "metadata": {},
   "source": [
    "### Partition scheme\n",
    "\n",
    "All magic of sorting happens during partition process. We divide the array on two partitions: `[low .. pivot] <= [pivot .. high]`.\n",
    "\n",
    "As a result we have the array, that sorted by **pivot**, and **pivot index**, that must be returned by `partition` function.\n",
    "\n",
    "There are two most popular schemes of partition: Hoare and Lomuto. Lomuto's scheme is less efficient, but more simple."
   ]
  },
  {
   "cell_type": "markdown",
   "metadata": {},
   "source": [
    "#### Lomuto partition scheme\n",
    "\n",
    "We choose the last array item `arr[high]` as **pivot**.\n",
    "\n",
    "Then, we shifting low bound of array `low += 1` and compare the item `arr[low]` with **pivot**. If `pivot < item`, we place the item after the pivot."
   ]
  },
  {
   "cell_type": "code",
   "execution_count": 3,
   "metadata": {},
   "outputs": [],
   "source": [
    "def partition_lomuto(arr, low, high):\n",
    "    while low < high:\n",
    "        if arr[high] < arr[low]:\n",
    "            arr.insert(high, arr.pop(low))\n",
    "            high -= 1\n",
    "        else:\n",
    "            low += 1\n",
    "    return low"
   ]
  },
  {
   "cell_type": "markdown",
   "metadata": {},
   "source": [
    "#### Hoare partition scheme\n",
    "\n",
    "We choose array middle item as **pivot**.\n",
    "\n",
    "Then, we move `low` and `high` array bounds toward each other until they collide.\n",
    "\n",
    "If we meet `pivot <= arr[low]` or `arr[high] <= pivot` values during moving array bounds, we swap it."
   ]
  },
  {
   "cell_type": "code",
   "execution_count": 4,
   "metadata": {},
   "outputs": [],
   "source": [
    "def partition_hoare(arr, low, high):\n",
    "    pivot = arr[(low + high) // 2]\n",
    "    low -= 1\n",
    "    high += 1\n",
    "    while True:\n",
    "        low += 1\n",
    "        while arr[low] < pivot:\n",
    "            low += 1\n",
    "        high -= 1\n",
    "        while pivot < arr[high]:\n",
    "            high -= 1\n",
    "        if low >= high:\n",
    "            return high + 1\n",
    "        swap(arr, low, high)"
   ]
  },
  {
   "cell_type": "markdown",
   "metadata": {},
   "source": [
    "### Main function\n",
    "\n",
    "This is Quick sort entry point. We recursively repeating partition function."
   ]
  },
  {
   "cell_type": "code",
   "execution_count": 5,
   "metadata": {},
   "outputs": [],
   "source": [
    "# For ability to switch method\n",
    "partition = partition_hoare\n",
    "\n",
    "\n",
    "def quick_sort(arr, low=0, high=-1):\n",
    "    high += 0 if 0 <= high else len(arr)\n",
    "    if low < high:\n",
    "        part = partition(arr, low, high)\n",
    "        quick_sort(arr, low, part - 1)\n",
    "        quick_sort(arr, part, high)"
   ]
  },
  {
   "cell_type": "markdown",
   "metadata": {},
   "source": [
    "## [Testing](#testing)"
   ]
  },
  {
   "cell_type": "code",
   "execution_count": 6,
   "metadata": {},
   "outputs": [
    {
     "name": "stdout",
     "output_type": "stream",
     "text": [
      "Bubble sort, random array - 3084 ms\n",
      "[94, 24, 48, 16, 3, 79, 99, 10, 4, 55] ... [53, 54, 78, 62, 100, 31, 2, 28, 46, 48]\n",
      "[0, 0, 0, 0, 0, 0, 0, 0, 0, 0] ... [100, 100, 100, 100, 100, 100, 100, 100, 100, 100]\n",
      "\n",
      "Quick sort Lomuto, random array - 24 ms\n",
      "[68, 40, 87, 92, 1, 30, 41, 28, 10, 20] ... [24, 36, 28, 57, 50, 28, 32, 3, 4, 99]\n",
      "[0, 0, 0, 0, 0, 0, 0, 0, 0, 0] ... [100, 100, 100, 100, 100, 100, 100, 100, 100, 100]\n",
      "\n",
      "Quick sort Hoare, random array - 14 ms\n",
      "[49, 49, 38, 8, 4, 18, 68, 27, 53, 63] ... [90, 21, 82, 82, 45, 60, 39, 68, 91, 81]\n",
      "[0, 0, 0, 0, 0, 0, 0, 0, 0, 0] ... [100, 100, 100, 100, 100, 100, 100, 100, 100, 100]\n",
      "\n",
      "Bubble sort, already sorted array - 1 ms\n",
      "\n",
      "Quick sort Lomuto, already sorted array - 547 ms\n",
      "\n",
      "Quick sort Hoare, already sorted array - 10 ms\n",
      "\n",
      "Bubble sort, array of one value - 1 ms\n",
      "\n",
      "Quick sort Lomuto, array of one value - 540 ms\n",
      "\n",
      "Quick sort Hoare, array of one value - 14 ms\n",
      "\n"
     ]
    }
   ],
   "source": [
    "print_random_array_sorting('Bubble sort, random array', bubble_sort)\n",
    "\n",
    "partition = partition_lomuto\n",
    "print_random_array_sorting('Quick sort Lomuto, random array', quick_sort)\n",
    "\n",
    "partition = partition_hoare\n",
    "print_random_array_sorting('Quick sort Hoare, random array', quick_sort)\n",
    "\n",
    "\n",
    "print_sorted_array_sorting('Bubble sort, already sorted array', bubble_sort)\n",
    "\n",
    "partition = partition_lomuto\n",
    "print_sorted_array_sorting('Quick sort Lomuto, already sorted array', quick_sort)\n",
    "\n",
    "partition = partition_hoare\n",
    "print_sorted_array_sorting('Quick sort Hoare, already sorted array', quick_sort)\n",
    "\n",
    "\n",
    "print_single_value_array_sorting('Bubble sort, array of one value', bubble_sort)\n",
    "\n",
    "partition = partition_lomuto\n",
    "print_single_value_array_sorting('Quick sort Lomuto, array of one value', quick_sort)\n",
    "\n",
    "partition = partition_hoare\n",
    "print_single_value_array_sorting('Quick sort Hoare, array of one value', quick_sort)"
   ]
  }
 ],
 "metadata": {
  "kernelspec": {
   "display_name": "Python 3",
   "language": "python",
   "name": "python3"
  },
  "language_info": {
   "codemirror_mode": {
    "name": "ipython",
    "version": 3
   },
   "file_extension": ".py",
   "mimetype": "text/x-python",
   "name": "python",
   "nbconvert_exporter": "python",
   "pygments_lexer": "ipython3",
   "version": "3.6.6"
  }
 },
 "nbformat": 4,
 "nbformat_minor": 4
}
